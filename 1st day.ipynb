{
 "cells": [
  {
   "cell_type": "code",
   "execution_count": 91,
   "id": "67063807",
   "metadata": {},
   "outputs": [
    {
     "name": "stdout",
     "output_type": "stream",
     "text": [
      "ready\n"
     ]
    }
   ],
   "source": [
    "my_fav_movie='ready'\n",
    "print(my_fav_movie)"
   ]
  },
  {
   "cell_type": "code",
   "execution_count": 92,
   "id": "8f35cafd",
   "metadata": {},
   "outputs": [
    {
     "data": {
      "text/plain": [
       "str"
      ]
     },
     "execution_count": 92,
     "metadata": {},
     "output_type": "execute_result"
    }
   ],
   "source": [
    "type(my_fav_movie)"
   ]
  },
  {
   "cell_type": "code",
   "execution_count": 93,
   "id": "b10ca9b8",
   "metadata": {},
   "outputs": [
    {
     "name": "stdout",
     "output_type": "stream",
     "text": [
      "sweety\n"
     ]
    }
   ],
   "source": [
    "sister='sweety'\n",
    "print(sister)"
   ]
  },
  {
   "cell_type": "code",
   "execution_count": 94,
   "id": "286016ec",
   "metadata": {},
   "outputs": [
    {
     "name": "stdout",
     "output_type": "stream",
     "text": [
      "SWEETY\n"
     ]
    }
   ],
   "source": [
    "print(sister.upper())"
   ]
  },
  {
   "cell_type": "code",
   "execution_count": 95,
   "id": "b58f813a",
   "metadata": {},
   "outputs": [
    {
     "name": "stdout",
     "output_type": "stream",
     "text": [
      "sweety\n",
      "Sweety\n"
     ]
    }
   ],
   "source": [
    "print(sister.lower())\n",
    "print(sister.title())"
   ]
  },
  {
   "cell_type": "code",
   "execution_count": 99,
   "id": "bc672666",
   "metadata": {},
   "outputs": [
    {
     "name": "stdout",
     "output_type": "stream",
     "text": [
      "chennai\n"
     ]
    }
   ],
   "source": [
    "place='CHENNAI'\n",
    "print(place.lower())"
   ]
  },
  {
   "cell_type": "code",
   "execution_count": null,
   "id": "2384d717",
   "metadata": {},
   "outputs": [],
   "source": []
  }
 ],
 "metadata": {
  "kernelspec": {
   "display_name": "Python 3 (ipykernel)",
   "language": "python",
   "name": "python3"
  },
  "language_info": {
   "codemirror_mode": {
    "name": "ipython",
    "version": 3
   },
   "file_extension": ".py",
   "mimetype": "text/x-python",
   "name": "python",
   "nbconvert_exporter": "python",
   "pygments_lexer": "ipython3",
   "version": "3.9.7"
  }
 },
 "nbformat": 4,
 "nbformat_minor": 5
}
